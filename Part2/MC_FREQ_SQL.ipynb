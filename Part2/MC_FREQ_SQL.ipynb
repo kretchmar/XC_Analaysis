{
 "cells": [
  {
   "cell_type": "markdown",
   "metadata": {},
   "source": [
    "# MC Frequency SQL\n",
    "This notebook contains code to perform the \"expected distribution\" calculations as part of the Chi-Square stats test procedure.  This notebook is Part 1 of the analysis.  The remaining calculations are in Part 2 *MC_FREQ_ANALYSIS*.  \n",
    "\n",
    "The goal of this notebook is to query schools that participated in post season competition from the Database and then store those results in 30 separate csv files.  These files are read by Part 2.  \n",
    "\n",
    "This notebook performs the sql queries to obtain the data and store it in pandas dataframes.  Each data piece is queried separately and stored in a separate filename.  \n",
    "\n",
    "There should be data for:\n",
    "- Years: 2017, 2018, 2019, 2020, 2021\n",
    "- Genders: \"B\" and \"G\"\n",
    "- Divisions: 1, 2 and 3\n",
    "\n",
    "for a total of 30 different queries and filenames.  \n"
   ]
  },
  {
   "cell_type": "code",
   "execution_count": 1,
   "metadata": {},
   "outputs": [],
   "source": [
    "import pandas as pd\n",
    "import sqlalchemy as sa\n",
    "import numpy as np\n",
    "import math\n",
    "import random"
   ]
  },
  {
   "cell_type": "markdown",
   "metadata": {},
   "source": [
    "### Create Database Connection\n",
    "Here we connect to our database engine.  For anyone wanting to reproduce this portion of the work, you will need to download the database and install it on your own mysql server.   Then you will need to alter the IP address name to connect to your own engine.\n",
    "\n",
    "Put your login credentials in the `creds.txt` file.  "
   ]
  },
  {
   "cell_type": "code",
   "execution_count": 2,
   "metadata": {},
   "outputs": [],
   "source": [
    "# read credentials\n",
    "fileHD = open('creds.txt')\n",
    "creds = fileHD.read()\n",
    "fileHD.close()\n",
    "userid,password = creds.split()\n",
    "\n",
    "# make connection\n",
    "pattern = \"{}://{}:{}@{}/{}\"\n",
    "protocol = 'mysql+mysqlconnector'\n",
    "server = \"jakku.cs.denison.edu\"\n",
    "database = 'OH_XC'\n",
    "cstring = pattern.format(protocol,userid,password,server,database)\n",
    "#print(cstring)\n",
    "\n",
    "# connect to DB engine\n",
    "engine = sa.create_engine(cstring)\n",
    "connection = engine.connect()"
   ]
  },
  {
   "cell_type": "markdown",
   "metadata": {},
   "source": [
    "### Select Statement\n",
    "Get the correct data from the database.  \n",
    "We query 30 different times for results from\n",
    "- years: 2017, 2018, 2019, 2020, and 2021\n",
    "- genders: boys and girls\n",
    "- divisions: I, II and III\n",
    "\n",
    "Each of these queries produces results for DISTRICT, REGIONAL and STATE meets along with team names, team IDs and team school populations.\n",
    "\n"
   ]
  },
  {
   "cell_type": "code",
   "execution_count": 3,
   "metadata": {},
   "outputs": [
    {
     "name": "stdout",
     "output_type": "stream",
     "text": [
      "SELECT S.BLDG_IRN, S.NAME, XC.YEAR, XC.DIVISION, XC.GENDER, XC.TYPE, XC.PLACE, S.POPULATION FROM School AS S JOIN XC_Results AS XC USING(BLDG_IRN) WHERE XC.YEAR=2017 and XC.GENDER='B' and XC.DIVISION=1 ORDER BY S.POPULATION, S.NAME, XC.TYPE; \n",
      "SELECT S.BLDG_IRN, S.NAME, XC.YEAR, XC.DIVISION, XC.GENDER, XC.TYPE, XC.PLACE, S.POPULATION FROM School AS S JOIN XC_Results AS XC USING(BLDG_IRN) WHERE XC.YEAR=2017 and XC.GENDER='B' and XC.DIVISION=2 ORDER BY S.POPULATION, S.NAME, XC.TYPE; \n",
      "SELECT S.BLDG_IRN, S.NAME, XC.YEAR, XC.DIVISION, XC.GENDER, XC.TYPE, XC.PLACE, S.POPULATION FROM School AS S JOIN XC_Results AS XC USING(BLDG_IRN) WHERE XC.YEAR=2017 and XC.GENDER='B' and XC.DIVISION=3 ORDER BY S.POPULATION, S.NAME, XC.TYPE; \n",
      "SELECT S.BLDG_IRN, S.NAME, XC.YEAR, XC.DIVISION, XC.GENDER, XC.TYPE, XC.PLACE, S.POPULATION FROM School AS S JOIN XC_Results AS XC USING(BLDG_IRN) WHERE XC.YEAR=2017 and XC.GENDER='G' and XC.DIVISION=1 ORDER BY S.POPULATION, S.NAME, XC.TYPE; \n",
      "SELECT S.BLDG_IRN, S.NAME, XC.YEAR, XC.DIVISION, XC.GENDER, XC.TYPE, XC.PLACE, S.POPULATION FROM School AS S JOIN XC_Results AS XC USING(BLDG_IRN) WHERE XC.YEAR=2017 and XC.GENDER='G' and XC.DIVISION=2 ORDER BY S.POPULATION, S.NAME, XC.TYPE; \n",
      "SELECT S.BLDG_IRN, S.NAME, XC.YEAR, XC.DIVISION, XC.GENDER, XC.TYPE, XC.PLACE, S.POPULATION FROM School AS S JOIN XC_Results AS XC USING(BLDG_IRN) WHERE XC.YEAR=2017 and XC.GENDER='G' and XC.DIVISION=3 ORDER BY S.POPULATION, S.NAME, XC.TYPE; \n",
      "SELECT S.BLDG_IRN, S.NAME, XC.YEAR, XC.DIVISION, XC.GENDER, XC.TYPE, XC.PLACE, S.POPULATION FROM School AS S JOIN XC_Results AS XC USING(BLDG_IRN) WHERE XC.YEAR=2018 and XC.GENDER='B' and XC.DIVISION=1 ORDER BY S.POPULATION, S.NAME, XC.TYPE; \n",
      "SELECT S.BLDG_IRN, S.NAME, XC.YEAR, XC.DIVISION, XC.GENDER, XC.TYPE, XC.PLACE, S.POPULATION FROM School AS S JOIN XC_Results AS XC USING(BLDG_IRN) WHERE XC.YEAR=2018 and XC.GENDER='B' and XC.DIVISION=2 ORDER BY S.POPULATION, S.NAME, XC.TYPE; \n",
      "SELECT S.BLDG_IRN, S.NAME, XC.YEAR, XC.DIVISION, XC.GENDER, XC.TYPE, XC.PLACE, S.POPULATION FROM School AS S JOIN XC_Results AS XC USING(BLDG_IRN) WHERE XC.YEAR=2018 and XC.GENDER='B' and XC.DIVISION=3 ORDER BY S.POPULATION, S.NAME, XC.TYPE; \n",
      "SELECT S.BLDG_IRN, S.NAME, XC.YEAR, XC.DIVISION, XC.GENDER, XC.TYPE, XC.PLACE, S.POPULATION FROM School AS S JOIN XC_Results AS XC USING(BLDG_IRN) WHERE XC.YEAR=2018 and XC.GENDER='G' and XC.DIVISION=1 ORDER BY S.POPULATION, S.NAME, XC.TYPE; \n",
      "SELECT S.BLDG_IRN, S.NAME, XC.YEAR, XC.DIVISION, XC.GENDER, XC.TYPE, XC.PLACE, S.POPULATION FROM School AS S JOIN XC_Results AS XC USING(BLDG_IRN) WHERE XC.YEAR=2018 and XC.GENDER='G' and XC.DIVISION=2 ORDER BY S.POPULATION, S.NAME, XC.TYPE; \n",
      "SELECT S.BLDG_IRN, S.NAME, XC.YEAR, XC.DIVISION, XC.GENDER, XC.TYPE, XC.PLACE, S.POPULATION FROM School AS S JOIN XC_Results AS XC USING(BLDG_IRN) WHERE XC.YEAR=2018 and XC.GENDER='G' and XC.DIVISION=3 ORDER BY S.POPULATION, S.NAME, XC.TYPE; \n",
      "SELECT S.BLDG_IRN, S.NAME, XC.YEAR, XC.DIVISION, XC.GENDER, XC.TYPE, XC.PLACE, S.POPULATION FROM School AS S JOIN XC_Results AS XC USING(BLDG_IRN) WHERE XC.YEAR=2019 and XC.GENDER='B' and XC.DIVISION=1 ORDER BY S.POPULATION, S.NAME, XC.TYPE; \n",
      "SELECT S.BLDG_IRN, S.NAME, XC.YEAR, XC.DIVISION, XC.GENDER, XC.TYPE, XC.PLACE, S.POPULATION FROM School AS S JOIN XC_Results AS XC USING(BLDG_IRN) WHERE XC.YEAR=2019 and XC.GENDER='B' and XC.DIVISION=2 ORDER BY S.POPULATION, S.NAME, XC.TYPE; \n",
      "SELECT S.BLDG_IRN, S.NAME, XC.YEAR, XC.DIVISION, XC.GENDER, XC.TYPE, XC.PLACE, S.POPULATION FROM School AS S JOIN XC_Results AS XC USING(BLDG_IRN) WHERE XC.YEAR=2019 and XC.GENDER='B' and XC.DIVISION=3 ORDER BY S.POPULATION, S.NAME, XC.TYPE; \n",
      "SELECT S.BLDG_IRN, S.NAME, XC.YEAR, XC.DIVISION, XC.GENDER, XC.TYPE, XC.PLACE, S.POPULATION FROM School AS S JOIN XC_Results AS XC USING(BLDG_IRN) WHERE XC.YEAR=2019 and XC.GENDER='G' and XC.DIVISION=1 ORDER BY S.POPULATION, S.NAME, XC.TYPE; \n",
      "SELECT S.BLDG_IRN, S.NAME, XC.YEAR, XC.DIVISION, XC.GENDER, XC.TYPE, XC.PLACE, S.POPULATION FROM School AS S JOIN XC_Results AS XC USING(BLDG_IRN) WHERE XC.YEAR=2019 and XC.GENDER='G' and XC.DIVISION=2 ORDER BY S.POPULATION, S.NAME, XC.TYPE; \n",
      "SELECT S.BLDG_IRN, S.NAME, XC.YEAR, XC.DIVISION, XC.GENDER, XC.TYPE, XC.PLACE, S.POPULATION FROM School AS S JOIN XC_Results AS XC USING(BLDG_IRN) WHERE XC.YEAR=2019 and XC.GENDER='G' and XC.DIVISION=3 ORDER BY S.POPULATION, S.NAME, XC.TYPE; \n",
      "SELECT S.BLDG_IRN, S.NAME, XC.YEAR, XC.DIVISION, XC.GENDER, XC.TYPE, XC.PLACE, S.POPULATION FROM School AS S JOIN XC_Results AS XC USING(BLDG_IRN) WHERE XC.YEAR=2020 and XC.GENDER='B' and XC.DIVISION=1 ORDER BY S.POPULATION, S.NAME, XC.TYPE; \n",
      "SELECT S.BLDG_IRN, S.NAME, XC.YEAR, XC.DIVISION, XC.GENDER, XC.TYPE, XC.PLACE, S.POPULATION FROM School AS S JOIN XC_Results AS XC USING(BLDG_IRN) WHERE XC.YEAR=2020 and XC.GENDER='B' and XC.DIVISION=2 ORDER BY S.POPULATION, S.NAME, XC.TYPE; \n",
      "SELECT S.BLDG_IRN, S.NAME, XC.YEAR, XC.DIVISION, XC.GENDER, XC.TYPE, XC.PLACE, S.POPULATION FROM School AS S JOIN XC_Results AS XC USING(BLDG_IRN) WHERE XC.YEAR=2020 and XC.GENDER='B' and XC.DIVISION=3 ORDER BY S.POPULATION, S.NAME, XC.TYPE; \n",
      "SELECT S.BLDG_IRN, S.NAME, XC.YEAR, XC.DIVISION, XC.GENDER, XC.TYPE, XC.PLACE, S.POPULATION FROM School AS S JOIN XC_Results AS XC USING(BLDG_IRN) WHERE XC.YEAR=2020 and XC.GENDER='G' and XC.DIVISION=1 ORDER BY S.POPULATION, S.NAME, XC.TYPE; \n",
      "SELECT S.BLDG_IRN, S.NAME, XC.YEAR, XC.DIVISION, XC.GENDER, XC.TYPE, XC.PLACE, S.POPULATION FROM School AS S JOIN XC_Results AS XC USING(BLDG_IRN) WHERE XC.YEAR=2020 and XC.GENDER='G' and XC.DIVISION=2 ORDER BY S.POPULATION, S.NAME, XC.TYPE; \n",
      "SELECT S.BLDG_IRN, S.NAME, XC.YEAR, XC.DIVISION, XC.GENDER, XC.TYPE, XC.PLACE, S.POPULATION FROM School AS S JOIN XC_Results AS XC USING(BLDG_IRN) WHERE XC.YEAR=2020 and XC.GENDER='G' and XC.DIVISION=3 ORDER BY S.POPULATION, S.NAME, XC.TYPE; \n",
      "SELECT S.BLDG_IRN, S.NAME, XC.YEAR, XC.DIVISION, XC.GENDER, XC.TYPE, XC.PLACE, S.POPULATION FROM School AS S JOIN XC_Results AS XC USING(BLDG_IRN) WHERE XC.YEAR=2021 and XC.GENDER='B' and XC.DIVISION=1 ORDER BY S.POPULATION, S.NAME, XC.TYPE; \n",
      "SELECT S.BLDG_IRN, S.NAME, XC.YEAR, XC.DIVISION, XC.GENDER, XC.TYPE, XC.PLACE, S.POPULATION FROM School AS S JOIN XC_Results AS XC USING(BLDG_IRN) WHERE XC.YEAR=2021 and XC.GENDER='B' and XC.DIVISION=2 ORDER BY S.POPULATION, S.NAME, XC.TYPE; \n",
      "SELECT S.BLDG_IRN, S.NAME, XC.YEAR, XC.DIVISION, XC.GENDER, XC.TYPE, XC.PLACE, S.POPULATION FROM School AS S JOIN XC_Results AS XC USING(BLDG_IRN) WHERE XC.YEAR=2021 and XC.GENDER='B' and XC.DIVISION=3 ORDER BY S.POPULATION, S.NAME, XC.TYPE; \n",
      "SELECT S.BLDG_IRN, S.NAME, XC.YEAR, XC.DIVISION, XC.GENDER, XC.TYPE, XC.PLACE, S.POPULATION FROM School AS S JOIN XC_Results AS XC USING(BLDG_IRN) WHERE XC.YEAR=2021 and XC.GENDER='G' and XC.DIVISION=1 ORDER BY S.POPULATION, S.NAME, XC.TYPE; \n",
      "SELECT S.BLDG_IRN, S.NAME, XC.YEAR, XC.DIVISION, XC.GENDER, XC.TYPE, XC.PLACE, S.POPULATION FROM School AS S JOIN XC_Results AS XC USING(BLDG_IRN) WHERE XC.YEAR=2021 and XC.GENDER='G' and XC.DIVISION=2 ORDER BY S.POPULATION, S.NAME, XC.TYPE; \n",
      "SELECT S.BLDG_IRN, S.NAME, XC.YEAR, XC.DIVISION, XC.GENDER, XC.TYPE, XC.PLACE, S.POPULATION FROM School AS S JOIN XC_Results AS XC USING(BLDG_IRN) WHERE XC.YEAR=2021 and XC.GENDER='G' and XC.DIVISION=3 ORDER BY S.POPULATION, S.NAME, XC.TYPE; \n"
     ]
    }
   ],
   "source": [
    "for year in ['2017','2018','2019','2020','2021']:\n",
    "    for gender in ['B','G']:\n",
    "        for div in [1,2,3]:\n",
    "\n",
    "            #select S.NAME, XC.Year, XC.GENDER, XC.TYPE, XC.PLACE, S.POPULATION from XC_Results as XC \n",
    "            #inner join School as S on XC.BLDG_IRN=S.BLDG_IRN \n",
    "            #where XC.YEAR=2017 and XC.DIVISION = 1 and XC.Gender='B' ordeR BY S.POPULATION, S.NAME, XC.TYPE;\n",
    "\n",
    "\n",
    "            q1 = \"SELECT S.BLDG_IRN, S.NAME, XC.YEAR, XC.DIVISION, XC.GENDER, XC.TYPE, XC.PLACE, S.POPULATION \" \n",
    "            q2 = \"FROM School AS S \" \n",
    "            q3 = \"JOIN XC_Results AS XC USING(BLDG_IRN) \" \n",
    "            q4 = \"WHERE XC.YEAR={0} and XC.GENDER='{1}' and XC.DIVISION={2} \".format(year,gender,div)\n",
    "            q5 = \"ORDER BY S.POPULATION, S.NAME, XC.TYPE; \"\n",
    "\n",
    "            query = q1+q2+q3+q4+q5\n",
    "            print(query)\n",
    "            resultproxy = connection.execute(query)\n",
    "            df = pd.DataFrame(resultproxy.fetchall(),columns=resultproxy.keys())\n",
    "            #print(df)\n",
    "            \n",
    "            filename = 'D{0}_{1}_{2}.csv'.format(div,gender,year)\n",
    "            df.to_csv(filename)            \n"
   ]
  },
  {
   "cell_type": "code",
   "execution_count": 4,
   "metadata": {},
   "outputs": [],
   "source": [
    "connection.close()\n",
    "del engine\n"
   ]
  }
 ],
 "metadata": {
  "kernelspec": {
   "display_name": "Python 3 (ipykernel)",
   "language": "python",
   "name": "python3"
  },
  "language_info": {
   "codemirror_mode": {
    "name": "ipython",
    "version": 3
   },
   "file_extension": ".py",
   "mimetype": "text/x-python",
   "name": "python",
   "nbconvert_exporter": "python",
   "pygments_lexer": "ipython3",
   "version": "3.9.12"
  }
 },
 "nbformat": 4,
 "nbformat_minor": 4
}
